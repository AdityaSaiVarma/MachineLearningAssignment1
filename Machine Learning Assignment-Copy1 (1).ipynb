{
 "cells": [
  {
   "cell_type": "code",
   "execution_count": 4,
   "id": "d96e3d4f",
   "metadata": {
    "scrolled": true
   },
   "outputs": [
    {
     "name": "stdout",
     "output_type": "stream",
     "text": [
      "Type of Age: <class 'list'>\n",
      "Sorted List of ages is: [19, 19, 20, 22, 24, 24, 24, 25, 25, 26]\n",
      "Minimum age count is: 19\n",
      "[19, 19, 20, 22, 24, 24, 24, 25, 25, 26, 19]\n",
      "[19, 19, 20, 22, 24, 24, 24, 25, 25, 26, 19, 26]\n",
      "[19, 19, 20, 22, 24, 24, 24, 25, 25, 26]\n",
      "The Sorted List is : [19, 19, 20, 22, 24, 24, 24, 25, 25, 26]\n",
      "Median of list is : 24.0\n",
      "228\n",
      "Average of the list is : 22.8\n",
      "[19, 19, 20, 22, 24, 24, 24, 25, 25, 26]\n",
      "Minimum Value is : 19\n",
      "Maximam Value is: 26\n",
      "Range of the List is : 7\n"
     ]
    }
   ],
   "source": [
    "#Question-1\n",
    "ages = [19, 22, 19, 24, 20, 25, 26, 24, 25, 24]\n",
    "print(\"Type of Age:\",type(ages))\n",
    "ages.sort()\n",
    "print(\"Sorted List of ages is:\" ,ages)\n",
    "#Program to find min and max for the variable age\n",
    "print(\"Minimum age count is:\" ,min(ages))\n",
    "ages.append(min(ages))\n",
    "print(ages)\n",
    "ages.append(max(ages))\n",
    "print(ages)\n",
    "ages = [19, 22, 19, 24, 20, 25, 26, 24, 25, 24]\n",
    "#sorting the list to find the Median\n",
    "ages.sort()\n",
    "print(ages)\n",
    "# printing list\n",
    "print(\"The Sorted List is : \" + str(ages))\n",
    "# Median of the provided list is Given Below\n",
    "# Using loop + \"~\" operator\n",
    "midValue = len(ages) // 2\n",
    "result = (ages[midValue] + ages[~midValue]) / 2\n",
    "# Printing result\n",
    "print(\"Median of list is : \" + str(result))\n",
    "print(sum(ages))\n",
    "print(\"Average of the list is :\" ,sum(ages)/len(ages))#Average Of the List\n",
    "ages = [19, 22, 19, 24, 20, 25, 26, 24, 25, 24]\n",
    "ages.sort()\n",
    "print(ages)\n",
    "print(\"Minimum Value is :\",ages[0])#Minimum value\n",
    "print(\"Maximam Value is:\",ages[9])#Maximum value\n",
    "Range = ages[9]-ages[0]\n",
    "print(\"Range of the List is :\",Range)"
   ]
  },
  {
   "cell_type": "code",
   "execution_count": 2,
   "id": "59eba13b",
   "metadata": {
    "scrolled": true
   },
   "outputs": [
    {
     "name": "stdout",
     "output_type": "stream",
     "text": [
      "Type of Dog Variable is: <class 'dict'>\n",
      "Items in the Dog Dictionary are: {'name': 'Adisi', 'color': 'Brown', 'Breed': 'Labrador', 'legs': 'short', 'age': 4}\n",
      "The name of the dog is: Adisi\n",
      "{'first_name': 'Aditya Sai Varma', 'last_name': 'Saripalli', 'gender': 'Male', 'age': 21, 'martial status': 'Single', 'skills': ['c', 'Python', 'Java', 'SQL'], 'country': 'USA', 'city': 'Overland Park', 'address': '8601 W 131st Ter Overland Prk Kansas 66213'}\n",
      "My First name present in the Dictionary is: Aditya Sai Varma\n",
      "The Lenght of the Student Dictionary is : 9\n",
      "The Items present in Skills are: ['c', 'Python', 'Java', 'SQL']\n",
      "<class 'list'>\n",
      "The Total no of values along with Added values in the List named skills are: ['c', 'Python', 'Java', 'SQL', 'AWS', 'Java-Script']\n",
      "['first_name', 'last_name', 'gender', 'age', 'martial status', 'skills', 'country', 'city', 'address']\n",
      "['first_name', 'last_name', 'gender', 'age', 'martial status', 'skills', 'country', 'city', 'address']\n",
      "['Aditya Sai Varma', 'Saripalli', 'Male', 21, 'Single', ['c', 'Python', 'Java', 'SQL'], 'USA', 'Overland Park', '8601 W 131st Ter Overland Prk Kansas 66213']\n"
     ]
    }
   ],
   "source": [
    "#Question -2\n",
    "\n",
    "#Empty Dictionary\n",
    "dog={}\n",
    "print(\"Type of Dog Variable is:\", type(dog))\n",
    "dog.update({'name':'Adisi','color':'Brown','Breed':'Labrador','legs':'short','age':4})#Here I have used update() to add values into the Dictionary\n",
    "print(\"Items in the Dog Dictionary are:\" ,dog)\n",
    "print(\"The name of the dog is:\" ,dog['name'])\n",
    "#skills=[]\n",
    "MyDict={'first_name':'Aditya Sai Varma', 'last_name':'Saripalli' , 'gender':'Male', 'age':21, 'martial status':\"Single\", 'skills':['c','Python','Java','SQL'],'country':'USA', 'city': 'Overland Park', 'address':'8601 W 131st Ter Overland Prk Kansas 66213'}\n",
    "print(MyDict)\n",
    "print(\"My First name present in the Dictionary is:\" ,MyDict['first_name'])\n",
    "print(\"The Lenght of the Student Dictionary is :\", len(MyDict))\n",
    "print(\"The Items present in Skills are:\" ,MyDict['skills'])\n",
    "S = MyDict['skills']\n",
    "print(type(S))\n",
    "MyDict={'first_name':'Aditya Sai Varma', 'last_name':'Saripalli' , 'gender':'Male', 'age':21, 'martial status':\"Single\", 'skills':['c','Python','Java','SQL'],'country':'USA', 'city': 'Overland Park', 'address':'8601 W 131st Ter Overland Prk Kansas 66213'}\n",
    "MyDict['skills'].append('AWS')#This is the First value which is added to the list\n",
    "MyDict['skills'].append('Java-Script')#This is the Second one \n",
    "print(\"The Total no of values along with Added values in the List named skills are:\",MyDict['skills'])\n",
    "MyDict={'first_name':'Aditya Sai Varma', 'last_name':'Saripalli' , 'gender':'Male', 'age':21, 'martial status':\"Single\", 'skills':['c','Python','Java','SQL'],'country':'USA', 'city': 'Overland Park', 'address':'8601 W 131st Ter Overland Prk Kansas 66213'}\n",
    "print(list(MyDict))#This shows and prints MyDict Values in the form of List.\n",
    "print(list(MyDict.keys()))#Here we are accesing keys from MyDict in the form of list by converting it into list\n",
    "print(list(MyDict.values()))#Here we have got Dictionary values as a list by converting dict to list\n",
    "#Here we have typecasted form Dict to List\n",
    "\n"
   ]
  },
  {
   "cell_type": "code",
   "execution_count": 50,
   "id": "d11379c6",
   "metadata": {},
   "outputs": [
    {
     "name": "stdout",
     "output_type": "stream",
     "text": [
      "<class 'tuple'>\n",
      "The People in the Tuple(MySisters) are : ('Mahitha', 'Suma', 'JayaSree')\n",
      "The People in the Tuple(MyBrothers) are: ('Hemanth', 'Vikranth', 'Chaitanya')\n",
      "On a Whole my Sibilings are : ('Mahitha', 'Suma', 'JayaSree', 'Hemanth', 'Vikranth', 'Chaitanya')\n",
      "Lenght of the tuple named sibilings is : 6\n",
      "The Name of my parents are : ('Mohan Venkata Siva Rama Raju', 'Rupa Devi')\n",
      "The names of my Family members are: ('Mahitha', 'Suma', 'JayaSree', 'Hemanth', 'Vikranth', 'Chaitanya', 'Mohan Venkata Siva Rama Raju', 'Rupa Devi')\n"
     ]
    }
   ],
   "source": [
    "#Question-3\n",
    "\n",
    "MySisters=('Mahitha','Suma','JayaSree')\n",
    "print(type(MySisters))\n",
    "print(\"The People in the Tuple(MySisters) are :\",MySisters)\n",
    "MyBrothers=(\"Hemanth\",\"Vikranth\",\"Chaitanya\")\n",
    "print(\"The People in the Tuple(MyBrothers) are:\",MyBrothers)\n",
    "sibilings = MySisters+MyBrothers\n",
    "print(\"On a Whole my Sibilings are :\",sibilings)\n",
    "print(\"Lenght of the tuple named sibilings is :\",len(sibilings))\n",
    "MyParentNames=(\"Mohan Venkata Siva Rama Raju\",\"Rupa Devi\")\n",
    "print(\"The Name of my parents are :\",MyParentNames)\n",
    "family_members=sibilings+MyParentNames\n",
    "print(\"The names of my Family members are:\",family_members)\n"
   ]
  },
  {
   "cell_type": "code",
   "execution_count": 10,
   "id": "a11ffb7f",
   "metadata": {},
   "outputs": [
    {
     "name": "stdout",
     "output_type": "stream",
     "text": [
      "Lenght of it_companies are: 7\n",
      "It Companies with Updation of one comapny addition is: {'Google', 'Apple', 'Amazon', 'Microsoft', 'IBM', 'Twitter', 'Facebook', 'Oracle'}\n",
      "Names of the Multiple Company names which are added to the Original One are : {'Google', 'Twitter', 'Infosys', 'TCS', 'Facebook', 'Apple', 'Oracle', 'Microsoft', 'IBM', 'Amazon', 'NCR', 'DBS'}\n",
      "Joining the sets of A and will be : {19, 20, 22, 24, 25, 26, 27, 28}\n",
      "Intersection of the sets A and B is : {19, 20, 22, 24, 25, 26}\n",
      "Finding Whether A is Subset of B? (T/F): True\n",
      "Finding Whether A and B are Disjoint sets or not? False\n",
      "The Symmetric difference between the two sets A And are: {27, 28}\n",
      "<class 'list'>\n",
      "{19, 20, 22, 24, 25, 26}\n",
      "After Inserting Items of B into A : {19, 20, 22, 24, 25, 26, 27, 28}\n",
      "After Inserting Items of A into B : {19, 20, 22, 24, 25, 26, 27, 28}\n",
      "The Lenght of list and set are not same\n"
     ]
    },
    {
     "ename": "NameError",
     "evalue": "name 'A' is not defined",
     "output_type": "error",
     "traceback": [
      "\u001b[0;31m---------------------------------------------------------------------------\u001b[0m",
      "\u001b[0;31mNameError\u001b[0m                                 Traceback (most recent call last)",
      "Input \u001b[0;32mIn [10]\u001b[0m, in \u001b[0;36m<cell line: 37>\u001b[0;34m()\u001b[0m\n\u001b[1;32m     35\u001b[0m     \u001b[38;5;28mprint\u001b[39m(\u001b[38;5;124m\"\u001b[39m\u001b[38;5;124mThe Lenght of list and set are not same\u001b[39m\u001b[38;5;124m\"\u001b[39m)\n\u001b[1;32m     36\u001b[0m \u001b[38;5;28;01mdel\u001b[39;00m A\n\u001b[0;32m---> 37\u001b[0m \u001b[38;5;28mprint\u001b[39m(\u001b[43mA\u001b[49m)\u001b[38;5;66;03m#Error\u001b[39;00m\n\u001b[1;32m     38\u001b[0m \u001b[38;5;28;01mdel\u001b[39;00m B\n\u001b[1;32m     39\u001b[0m \u001b[38;5;28mprint\u001b[39m(B)\n",
      "\u001b[0;31mNameError\u001b[0m: name 'A' is not defined"
     ]
    }
   ],
   "source": [
    "#Question-4\n",
    "\n",
    "it_companies = {'Facebook', 'Google', 'Microsoft', 'Apple', 'IBM', 'Oracle', 'Amazon'}\n",
    "print(\"Lenght of it_companies are:\" ,len(it_companies))\n",
    "it_companies.add(\"Twitter\")\n",
    "print(\"It Companies with Updation of one comapny addition is:\",it_companies)#Here in Set while adding the items in it, it randomly allocates its place anywhere in the set\n",
    "it_companies.update([\"DBS\",\"NCR\",\"TCS\",\"Infosys\"])#Here in Set as add() only supports only one argument we woiuld be using update() to add multiple items\n",
    "print(\"Names of the Multiple Company names which are added to the Original One are :\",it_companies)\n",
    "it_companies.remove(\"Twitter\")#Here for removing a particualr element we would be using remove() ,to remove a random element we would be using pop() method\n",
    "#it_companies.remove(\"TOSLO\")#The expalnation for this is explained clearly in the word document\n",
    "#it_companies.remove(\"TOSLO\")\n",
    "A = {19, 22, 24, 20, 25, 26}\n",
    "B = {19, 22, 20, 25, 26, 24, 28, 27}\n",
    "Res=A.union(B)\n",
    "print(\"Joining the sets of A and will be :\",Res)#Here Union Combines all the elements in the two sets which doesnt include the duplicates in both of the sets\n",
    "Res1=A.intersection(B)\n",
    "print(\"Intersection of the sets A and B is :\",Res1)#It returns the common items present in the two sets\n",
    "print(\"Finding Whether A is Subset of B? (T/F):\",A.issubset(B))#Here as all the elements in  A are in B we can say that A is Subset of B,if it isnt true then issubset() return false basically it returns Boolean Values based on the Context\n",
    "print(\"Finding Whether A and B are Disjoint sets or not?\",A.isdisjoint(B))#Here it is false because there are similar items that are present in the both of the sets.The main Criteria for Disjoint Sets is that it shouldn't have common items present.\n",
    "print(\"The Symmetric difference between the two sets A And are:\",B.symmetric_difference(A))\n",
    "#It Basically caluculates{(A\\B)∪(B\\A)} to find Symmetric Difference\n",
    "ages = [19, 22, 19, 24, 20, 25, 26, 24, 25, 24]\n",
    "print(type(ages))\n",
    "print(set(ages))#Converting List ages[] to Set\n",
    "#print(type(ages))#List Converted to set.\n",
    "#Inserting items of  Set B into Set A\n",
    "A.update(B)\n",
    "print(\"After Inserting Items of B into A :\",A)\n",
    "B.update(A)\n",
    "print(\"After Inserting Items of A into B :\",B)\n",
    "#Below is the code for comparing the lenght for both list and set.\n",
    "if len(set(ages))==len(A):\n",
    "    print(\"Both the set and List are having same no of items i.e Lenght\")\n",
    "else:\n",
    "    print(\"The Lenght of list and set are not same\")\n",
    "del A\n",
    "print(A)#Error\n",
    "del B\n",
    "print(B)\n",
    "#Here it has deleted the set which we have preferred so that the Python Virtual Machine cannot find the set that is present in the memory\n",
    "\n",
    "\n"
   ]
  },
  {
   "cell_type": "code",
   "execution_count": 28,
   "id": "70646cef",
   "metadata": {},
   "outputs": [
    {
     "name": "stdout",
     "output_type": "stream",
     "text": [
      "Area of Circle is: 2826.0\n",
      "The Circumference of the Circle  is: 188.4\n"
     ]
    }
   ],
   "source": [
    "#Question-5\n",
    "\n",
    "def AreaOfCircle(radius):\n",
    "    _area_of_circle_= 3.14*radius*radius\n",
    "    print(\"Area of Circle is:\",_area_of_circle_)\n",
    "def CircumferenceOfCircle(radius):\n",
    "    _circum_of_circle_ = 2*3.14*radius\n",
    "    return _circum_of_circle_ #Return the Circum Value\n",
    "AreaOfCircle(30)\n",
    "Circumference=CircumferenceOfCircle(30)#this holds the circumference value of the circle\n",
    "print(\"The Circumference of the Circle  is:\",Circumference)\n"
   ]
  },
  {
   "cell_type": "code",
   "execution_count": 1,
   "id": "4d5e4d5f",
   "metadata": {},
   "outputs": [
    {
     "name": "stdout",
     "output_type": "stream",
     "text": [
      "Enter the radius for the Circle: 30\n",
      "Area of Circle is: 2826.0\n"
     ]
    }
   ],
   "source": [
    "Input_radius=int(input(\"Enter the radius for the Circle: \"))#Here we are converting the string input to Integer by doing Type_Casting\n",
    "def AreaOfCircle(radius):\n",
    "    _area_of_circle_= 3.14*radius*radius\n",
    "    print(\"Area of Circle is:\",_area_of_circle_)\n",
    "AreaOfCircle(Input_radius)"
   ]
  },
  {
   "cell_type": "code",
   "execution_count": 73,
   "id": "88ad1ef4",
   "metadata": {},
   "outputs": [
    {
     "name": "stdout",
     "output_type": "stream",
     "text": [
      "Unique Words from the List are : {'am', 'I', 'people', 'a', 'and', 'teacher', 'inspire', 'teach', 'to', 'love'}\n"
     ]
    }
   ],
   "source": [
    "#Question-6\n",
    "#Unique Words in the list\n",
    "Input = \"I am a teacher and I love to inspire and teach people\"\n",
    "B = set(Input.split(\" \"))#Here at first it splits the string into different words and then it is converted into set where the duplicate value aren't allowed \n",
    "#Through this Process we can get Unique word from the given String\n",
    "print(\"Unique Words from the List are :\", B)\n"
   ]
  },
  {
   "cell_type": "code",
   "execution_count": 1,
   "id": "ddaf3885",
   "metadata": {},
   "outputs": [
    {
     "name": "stdout",
     "output_type": "stream",
     "text": [
      "Name\tAge\tCountry\tCity\n",
      "Asbeneh\t 250\t Finland Helsinki\n"
     ]
    }
   ],
   "source": [
    "#Question-7\n",
    "\n",
    "#Using Tab Escape Sequence character\n",
    "#Name Age Country City\n",
    " #Asabeneh 250 Finland Helsinki\n",
    "print('Name\\tAge\\tCountry\\tCity\\nAsbeneh\\t 250\\t Finland Helsinki')"
   ]
  },
  {
   "cell_type": "code",
   "execution_count": 33,
   "id": "094ef5da",
   "metadata": {},
   "outputs": [
    {
     "name": "stdout",
     "output_type": "stream",
     "text": [
      "radius = 10\n",
      "area = 3.14*radius**2\n",
      "The area of circle with a radius 10 is 314 square meter.\n"
     ]
    }
   ],
   "source": [
    "#Question-8\n",
    "\n",
    "radius = 10\n",
    "area = 3.14 * radius ** 2#Here %d represents the integer that to be displayed\n",
    "formated_string = \"radius = %d\\narea = 3.14*radius**%d\\nThe area of circle with a radius %d is %d square meter.\" %(radius,2,radius,area)\n",
    "print(formated_string)\n",
    "#We can also use format() to display string which we want"
   ]
  },
  {
   "cell_type": "code",
   "execution_count": 74,
   "id": "7864842a",
   "metadata": {},
   "outputs": [
    {
     "name": "stdout",
     "output_type": "stream",
     "text": [
      "Enter the List size for Conversion:4\n",
      "Enter weights(lbs) of N students150\n",
      "Enter weights(lbs) of N students155\n",
      "Enter weights(lbs) of N students145\n",
      "Enter weights(lbs) of N students148\n",
      "[68.02721088435374, 70.29478458049887, 65.75963718820861, 67.12018140589569]\n",
      "[150, 155, 145, 148]\n"
     ]
    }
   ],
   "source": [
    "#Question-9\n",
    "#L1: [150, 155, 145, 148](input)\n",
    "#Output: [68.03, 70.3, 65.77, 67.13]\n",
    "LBS = []#Empty List\n",
    "S = int(input(\"Enter the List size for Conversion:\"))#Taking Input from the User\n",
    "for K in range(S):\n",
    "    StudentWeights = int(input(\"Enter weights(lbs) of N students\"))\n",
    "    LBS.append(StudentWeights)#Appending the weigths into the LBS[]\n",
    "KGS=[[]] * S\n",
    "for K in range(S):\n",
    "    KGS[K] = LBS[K]/2.205\n",
    "print(KGS)\n",
    "print(LBS)"
   ]
  },
  {
   "cell_type": "code",
   "execution_count": 10,
   "id": "3a10abaf",
   "metadata": {},
   "outputs": [
    {
     "name": "stdout",
     "output_type": "stream",
     "text": [
      "[[1 0]\n",
      " [2 0]\n",
      " [3 0]\n",
      " [6 0]]\n",
      "[0 0 1 1]\n",
      "[1 1 1 1]\n",
      "<class 'numpy.ndarray'>\n"
     ]
    }
   ],
   "source": [
    "#Question=10\n",
    "import numpy as np\n",
    "\n",
    "#We use sklearn which is a package where we acan find MAchine Learning Alogrithms\n",
    "from sklearn.model_selection import train_test_split#here tran_test_split to split the data\n",
    "from sklearn.neighbors import KNeighborsClassifier#Here we Use this to implement the KNN Algorithm\n",
    "L = np.array([[1,0],[2,0],[3,0],[6,0],[6,0],[7,0],[10,0],[11,0]])#These are the data sets which are obtained from the given graph\n",
    "M = np.array([0,0,1,1,1,0,0,0])#this represents the classes at individual data points\n",
    "#Here we are splitting the data set into two equal halves where 1st on is for training and another one is for testing purpose\n",
    "L_train, L_test, M_train, M_test = train_test_split(L,M,test_size = 0.5, random_state = 0, shuffle = False)\n",
    "print(L_train)\n",
    "print(M_train)\n",
    "neighbor = KNeighborsClassifier(n_neighbors = 3)\n",
    "neighbor.fit(L_train,M_train)\n",
    "M_pred = neighbor.predict(L_test)\n",
    "print(M_pred) #This prints the predictions in the form of array\n",
    "print(type(M_pred))"
   ]
  },
  {
   "cell_type": "code",
   "execution_count": 9,
   "id": "a6d6ec3a",
   "metadata": {},
   "outputs": [
    {
     "data": {
      "text/plain": [
       "array([[0, 3],\n",
       "       [0, 1]])"
      ]
     },
     "execution_count": 9,
     "metadata": {},
     "output_type": "execute_result"
    }
   ],
   "source": [
    "from sklearn.metrics import confusion_matrix#Here we are importing confusion matrix from sklearn package\n",
    "confusion_matrix(M_test,M_pred)#Here we are comparing predicted class labels with test class ones"
   ]
  },
  {
   "cell_type": "code",
   "execution_count": null,
   "id": "0987ba3e",
   "metadata": {},
   "outputs": [],
   "source": [
    "#And the rest like Accuracy,sensitivity,specificity,are caluculated and written clearly on the word document"
   ]
  },
  {
   "cell_type": "code",
   "execution_count": null,
   "id": "83a6d12c",
   "metadata": {},
   "outputs": [],
   "source": []
  },
  {
   "cell_type": "code",
   "execution_count": null,
   "id": "6b9be358",
   "metadata": {},
   "outputs": [],
   "source": []
  },
  {
   "cell_type": "code",
   "execution_count": null,
   "id": "48eea990",
   "metadata": {},
   "outputs": [],
   "source": []
  },
  {
   "cell_type": "code",
   "execution_count": null,
   "id": "14129b8c",
   "metadata": {},
   "outputs": [],
   "source": []
  },
  {
   "cell_type": "code",
   "execution_count": null,
   "id": "790cef4f",
   "metadata": {},
   "outputs": [],
   "source": []
  },
  {
   "cell_type": "code",
   "execution_count": null,
   "id": "6f5c8e97",
   "metadata": {},
   "outputs": [],
   "source": []
  },
  {
   "cell_type": "code",
   "execution_count": null,
   "id": "16404b9f",
   "metadata": {},
   "outputs": [],
   "source": []
  },
  {
   "cell_type": "code",
   "execution_count": null,
   "id": "c7f5f0df",
   "metadata": {},
   "outputs": [],
   "source": []
  },
  {
   "cell_type": "code",
   "execution_count": null,
   "id": "1eedf310",
   "metadata": {},
   "outputs": [],
   "source": []
  },
  {
   "cell_type": "code",
   "execution_count": null,
   "id": "467805d8",
   "metadata": {},
   "outputs": [],
   "source": []
  },
  {
   "cell_type": "code",
   "execution_count": null,
   "id": "d86c7e69",
   "metadata": {},
   "outputs": [],
   "source": []
  },
  {
   "cell_type": "code",
   "execution_count": null,
   "id": "08d7f0ac",
   "metadata": {},
   "outputs": [],
   "source": []
  },
  {
   "cell_type": "code",
   "execution_count": null,
   "id": "fdb7d80a",
   "metadata": {},
   "outputs": [],
   "source": []
  },
  {
   "cell_type": "code",
   "execution_count": null,
   "id": "d1bc647e",
   "metadata": {},
   "outputs": [],
   "source": []
  },
  {
   "cell_type": "code",
   "execution_count": null,
   "id": "39790a05",
   "metadata": {},
   "outputs": [],
   "source": []
  },
  {
   "cell_type": "code",
   "execution_count": null,
   "id": "d70cec69",
   "metadata": {},
   "outputs": [],
   "source": []
  },
  {
   "cell_type": "code",
   "execution_count": null,
   "id": "51115f87",
   "metadata": {},
   "outputs": [],
   "source": []
  },
  {
   "cell_type": "code",
   "execution_count": null,
   "id": "79a84510",
   "metadata": {},
   "outputs": [],
   "source": []
  },
  {
   "cell_type": "code",
   "execution_count": null,
   "id": "d6c5307d",
   "metadata": {},
   "outputs": [],
   "source": []
  },
  {
   "cell_type": "code",
   "execution_count": null,
   "id": "b889a719",
   "metadata": {},
   "outputs": [],
   "source": []
  },
  {
   "cell_type": "code",
   "execution_count": null,
   "id": "e6b027a0",
   "metadata": {},
   "outputs": [],
   "source": []
  },
  {
   "cell_type": "code",
   "execution_count": null,
   "id": "8d47c80f",
   "metadata": {},
   "outputs": [],
   "source": []
  },
  {
   "cell_type": "code",
   "execution_count": null,
   "id": "dd25496c",
   "metadata": {},
   "outputs": [],
   "source": []
  },
  {
   "cell_type": "code",
   "execution_count": null,
   "id": "76b05b15",
   "metadata": {},
   "outputs": [],
   "source": []
  },
  {
   "cell_type": "code",
   "execution_count": null,
   "id": "ee046cbf",
   "metadata": {},
   "outputs": [],
   "source": []
  },
  {
   "cell_type": "code",
   "execution_count": null,
   "id": "57aff68c",
   "metadata": {},
   "outputs": [],
   "source": []
  },
  {
   "cell_type": "code",
   "execution_count": null,
   "id": "8332117e",
   "metadata": {},
   "outputs": [],
   "source": []
  },
  {
   "cell_type": "code",
   "execution_count": null,
   "id": "838a25a2",
   "metadata": {},
   "outputs": [],
   "source": []
  },
  {
   "cell_type": "code",
   "execution_count": null,
   "id": "b89fed99",
   "metadata": {},
   "outputs": [],
   "source": []
  },
  {
   "cell_type": "code",
   "execution_count": null,
   "id": "1fa1094c",
   "metadata": {},
   "outputs": [],
   "source": []
  },
  {
   "cell_type": "code",
   "execution_count": null,
   "id": "fe6cbe8e",
   "metadata": {},
   "outputs": [],
   "source": []
  },
  {
   "cell_type": "code",
   "execution_count": null,
   "id": "2a9a64f9",
   "metadata": {},
   "outputs": [],
   "source": []
  },
  {
   "cell_type": "code",
   "execution_count": null,
   "id": "5ba1f02c",
   "metadata": {},
   "outputs": [],
   "source": []
  },
  {
   "cell_type": "code",
   "execution_count": null,
   "id": "a75a6c76",
   "metadata": {},
   "outputs": [],
   "source": []
  },
  {
   "cell_type": "code",
   "execution_count": null,
   "id": "1478349f",
   "metadata": {},
   "outputs": [],
   "source": []
  },
  {
   "cell_type": "code",
   "execution_count": null,
   "id": "65ad6f1d",
   "metadata": {},
   "outputs": [],
   "source": []
  },
  {
   "cell_type": "code",
   "execution_count": null,
   "id": "8ecbf606",
   "metadata": {},
   "outputs": [],
   "source": []
  },
  {
   "cell_type": "code",
   "execution_count": null,
   "id": "41e2cd8b",
   "metadata": {},
   "outputs": [],
   "source": []
  },
  {
   "cell_type": "code",
   "execution_count": null,
   "id": "1fffb6b8",
   "metadata": {},
   "outputs": [],
   "source": []
  },
  {
   "cell_type": "code",
   "execution_count": null,
   "id": "36f47967",
   "metadata": {},
   "outputs": [],
   "source": []
  },
  {
   "cell_type": "code",
   "execution_count": null,
   "id": "78ba1609",
   "metadata": {},
   "outputs": [],
   "source": []
  },
  {
   "cell_type": "code",
   "execution_count": null,
   "id": "3b0040bc",
   "metadata": {},
   "outputs": [],
   "source": []
  },
  {
   "cell_type": "code",
   "execution_count": null,
   "id": "bcae1c00",
   "metadata": {},
   "outputs": [],
   "source": []
  },
  {
   "cell_type": "code",
   "execution_count": null,
   "id": "60254000",
   "metadata": {},
   "outputs": [],
   "source": []
  },
  {
   "cell_type": "code",
   "execution_count": 18,
   "id": "054fd298",
   "metadata": {},
   "outputs": [
    {
     "name": "stdout",
     "output_type": "stream",
     "text": [
      "[150, 155, 145, 148]\n"
     ]
    }
   ],
   "source": [
    "print(lbs)"
   ]
  },
  {
   "cell_type": "code",
   "execution_count": null,
   "id": "fa20b034",
   "metadata": {},
   "outputs": [],
   "source": []
  },
  {
   "cell_type": "code",
   "execution_count": 19,
   "id": "b91a65b0",
   "metadata": {},
   "outputs": [
    {
     "data": {
      "text/plain": [
       "[]"
      ]
     },
     "execution_count": 19,
     "metadata": {},
     "output_type": "execute_result"
    }
   ],
   "source": [
    "kgs"
   ]
  },
  {
   "cell_type": "code",
   "execution_count": null,
   "id": "3ef91690",
   "metadata": {},
   "outputs": [],
   "source": []
  },
  {
   "cell_type": "code",
   "execution_count": null,
   "id": "3b9d72d7",
   "metadata": {},
   "outputs": [],
   "source": []
  },
  {
   "cell_type": "code",
   "execution_count": null,
   "id": "14f07c4f",
   "metadata": {},
   "outputs": [],
   "source": []
  },
  {
   "cell_type": "code",
   "execution_count": null,
   "id": "fdd097e8",
   "metadata": {},
   "outputs": [],
   "source": []
  },
  {
   "cell_type": "code",
   "execution_count": null,
   "id": "74587794",
   "metadata": {},
   "outputs": [],
   "source": []
  },
  {
   "cell_type": "code",
   "execution_count": null,
   "id": "9292141d",
   "metadata": {},
   "outputs": [],
   "source": []
  },
  {
   "cell_type": "code",
   "execution_count": null,
   "id": "4c85fa16",
   "metadata": {},
   "outputs": [],
   "source": []
  },
  {
   "cell_type": "code",
   "execution_count": null,
   "id": "b370ca73",
   "metadata": {},
   "outputs": [],
   "source": []
  },
  {
   "cell_type": "code",
   "execution_count": null,
   "id": "3bc2345e",
   "metadata": {},
   "outputs": [],
   "source": []
  },
  {
   "cell_type": "code",
   "execution_count": null,
   "id": "8a5cfb22",
   "metadata": {},
   "outputs": [],
   "source": []
  },
  {
   "cell_type": "code",
   "execution_count": null,
   "id": "faf29297",
   "metadata": {},
   "outputs": [],
   "source": []
  },
  {
   "cell_type": "code",
   "execution_count": 5,
   "id": "7ae46262",
   "metadata": {},
   "outputs": [
    {
     "data": {
      "text/plain": [
       "[150, 155, 145, 148]"
      ]
     },
     "execution_count": 5,
     "metadata": {},
     "output_type": "execute_result"
    }
   ],
   "source": [
    "lbs"
   ]
  },
  {
   "cell_type": "code",
   "execution_count": 8,
   "id": "550813fd",
   "metadata": {},
   "outputs": [
    {
     "data": {
      "text/plain": [
       "[]"
      ]
     },
     "execution_count": 8,
     "metadata": {},
     "output_type": "execute_result"
    }
   ],
   "source": [
    "kgs"
   ]
  },
  {
   "cell_type": "code",
   "execution_count": null,
   "id": "92c4a61b",
   "metadata": {},
   "outputs": [],
   "source": []
  },
  {
   "cell_type": "code",
   "execution_count": null,
   "id": "91d5bdac",
   "metadata": {},
   "outputs": [],
   "source": []
  },
  {
   "cell_type": "code",
   "execution_count": null,
   "id": "ed5e3ea5",
   "metadata": {},
   "outputs": [],
   "source": []
  },
  {
   "cell_type": "code",
   "execution_count": null,
   "id": "2bdc980c",
   "metadata": {},
   "outputs": [],
   "source": []
  },
  {
   "cell_type": "code",
   "execution_count": null,
   "id": "346f754f",
   "metadata": {},
   "outputs": [],
   "source": []
  },
  {
   "cell_type": "code",
   "execution_count": null,
   "id": "cb330417",
   "metadata": {},
   "outputs": [],
   "source": []
  },
  {
   "cell_type": "code",
   "execution_count": null,
   "id": "8ed08b24",
   "metadata": {},
   "outputs": [],
   "source": []
  },
  {
   "cell_type": "code",
   "execution_count": null,
   "id": "c00ac0f3",
   "metadata": {},
   "outputs": [],
   "source": []
  },
  {
   "cell_type": "code",
   "execution_count": null,
   "id": "de0774b7",
   "metadata": {},
   "outputs": [],
   "source": []
  },
  {
   "cell_type": "code",
   "execution_count": null,
   "id": "1fe483b9",
   "metadata": {},
   "outputs": [],
   "source": []
  },
  {
   "cell_type": "code",
   "execution_count": null,
   "id": "9afb7ddb",
   "metadata": {},
   "outputs": [],
   "source": []
  },
  {
   "cell_type": "code",
   "execution_count": null,
   "id": "ca0c3a10",
   "metadata": {},
   "outputs": [],
   "source": []
  },
  {
   "cell_type": "code",
   "execution_count": null,
   "id": "93d5fa21",
   "metadata": {},
   "outputs": [],
   "source": []
  },
  {
   "cell_type": "code",
   "execution_count": null,
   "id": "567242ef",
   "metadata": {},
   "outputs": [],
   "source": []
  },
  {
   "cell_type": "code",
   "execution_count": null,
   "id": "f4b283d0",
   "metadata": {},
   "outputs": [],
   "source": []
  },
  {
   "cell_type": "code",
   "execution_count": null,
   "id": "486963cd",
   "metadata": {},
   "outputs": [],
   "source": []
  },
  {
   "cell_type": "code",
   "execution_count": null,
   "id": "3e12de63",
   "metadata": {},
   "outputs": [],
   "source": []
  },
  {
   "cell_type": "code",
   "execution_count": null,
   "id": "d6c0a752",
   "metadata": {},
   "outputs": [],
   "source": []
  },
  {
   "cell_type": "code",
   "execution_count": null,
   "id": "33f10bed",
   "metadata": {},
   "outputs": [],
   "source": []
  },
  {
   "cell_type": "code",
   "execution_count": null,
   "id": "69541bb8",
   "metadata": {},
   "outputs": [],
   "source": []
  },
  {
   "cell_type": "code",
   "execution_count": null,
   "id": "9bf2ae70",
   "metadata": {},
   "outputs": [],
   "source": []
  },
  {
   "cell_type": "code",
   "execution_count": null,
   "id": "9dd1756e",
   "metadata": {},
   "outputs": [],
   "source": []
  },
  {
   "cell_type": "code",
   "execution_count": null,
   "id": "cb738b70",
   "metadata": {},
   "outputs": [],
   "source": []
  },
  {
   "cell_type": "code",
   "execution_count": null,
   "id": "ecbae352",
   "metadata": {},
   "outputs": [],
   "source": []
  },
  {
   "cell_type": "code",
   "execution_count": null,
   "id": "04867af3",
   "metadata": {},
   "outputs": [],
   "source": []
  },
  {
   "cell_type": "code",
   "execution_count": null,
   "id": "b5586cee",
   "metadata": {},
   "outputs": [],
   "source": []
  },
  {
   "cell_type": "code",
   "execution_count": null,
   "id": "141360b1",
   "metadata": {},
   "outputs": [],
   "source": []
  },
  {
   "cell_type": "code",
   "execution_count": null,
   "id": "8fe079bd",
   "metadata": {},
   "outputs": [],
   "source": []
  },
  {
   "cell_type": "code",
   "execution_count": null,
   "id": "5f27f734",
   "metadata": {},
   "outputs": [],
   "source": [
    "23\n"
   ]
  },
  {
   "cell_type": "code",
   "execution_count": null,
   "id": "b465fdda",
   "metadata": {},
   "outputs": [],
   "source": [
    "2324"
   ]
  },
  {
   "cell_type": "code",
   "execution_count": null,
   "id": "e8c66944",
   "metadata": {},
   "outputs": [],
   "source": []
  },
  {
   "cell_type": "code",
   "execution_count": null,
   "id": "6dcb45d7",
   "metadata": {},
   "outputs": [],
   "source": [
    "41243\n"
   ]
  },
  {
   "cell_type": "code",
   "execution_count": null,
   "id": "f0f6d929",
   "metadata": {},
   "outputs": [],
   "source": []
  },
  {
   "cell_type": "code",
   "execution_count": null,
   "id": "58880d87",
   "metadata": {},
   "outputs": [],
   "source": []
  },
  {
   "cell_type": "code",
   "execution_count": null,
   "id": "912a829a",
   "metadata": {},
   "outputs": [],
   "source": []
  },
  {
   "cell_type": "code",
   "execution_count": null,
   "id": "78f0d095",
   "metadata": {},
   "outputs": [],
   "source": []
  },
  {
   "cell_type": "code",
   "execution_count": null,
   "id": "55ff422e",
   "metadata": {},
   "outputs": [],
   "source": []
  },
  {
   "cell_type": "code",
   "execution_count": null,
   "id": "e51f3d6f",
   "metadata": {},
   "outputs": [],
   "source": []
  },
  {
   "cell_type": "code",
   "execution_count": null,
   "id": "9c384d73",
   "metadata": {},
   "outputs": [],
   "source": []
  },
  {
   "cell_type": "code",
   "execution_count": null,
   "id": "571a0c45",
   "metadata": {},
   "outputs": [],
   "source": []
  },
  {
   "cell_type": "code",
   "execution_count": null,
   "id": "59a9f7fe",
   "metadata": {},
   "outputs": [],
   "source": []
  },
  {
   "cell_type": "code",
   "execution_count": null,
   "id": "662db29b",
   "metadata": {},
   "outputs": [],
   "source": []
  },
  {
   "cell_type": "code",
   "execution_count": null,
   "id": "f55909c0",
   "metadata": {},
   "outputs": [],
   "source": []
  },
  {
   "cell_type": "code",
   "execution_count": null,
   "id": "64cf92d3",
   "metadata": {},
   "outputs": [],
   "source": []
  },
  {
   "cell_type": "code",
   "execution_count": null,
   "id": "786bb46f",
   "metadata": {},
   "outputs": [],
   "source": []
  },
  {
   "cell_type": "code",
   "execution_count": null,
   "id": "cf002f09",
   "metadata": {},
   "outputs": [],
   "source": []
  },
  {
   "cell_type": "code",
   "execution_count": null,
   "id": "b97d562a",
   "metadata": {},
   "outputs": [],
   "source": []
  },
  {
   "cell_type": "code",
   "execution_count": null,
   "id": "744debaa",
   "metadata": {},
   "outputs": [],
   "source": []
  },
  {
   "cell_type": "code",
   "execution_count": null,
   "id": "73cd43f6",
   "metadata": {},
   "outputs": [],
   "source": []
  },
  {
   "cell_type": "code",
   "execution_count": null,
   "id": "685795dc",
   "metadata": {},
   "outputs": [],
   "source": []
  },
  {
   "cell_type": "code",
   "execution_count": null,
   "id": "944b354c",
   "metadata": {},
   "outputs": [],
   "source": []
  },
  {
   "cell_type": "code",
   "execution_count": null,
   "id": "5ad6550f",
   "metadata": {},
   "outputs": [],
   "source": []
  },
  {
   "cell_type": "code",
   "execution_count": null,
   "id": "92a2010c",
   "metadata": {},
   "outputs": [],
   "source": []
  },
  {
   "cell_type": "code",
   "execution_count": null,
   "id": "1cb809d1",
   "metadata": {},
   "outputs": [],
   "source": []
  },
  {
   "cell_type": "code",
   "execution_count": null,
   "id": "af322d1c",
   "metadata": {},
   "outputs": [],
   "source": []
  },
  {
   "cell_type": "code",
   "execution_count": null,
   "id": "a1b6df9d",
   "metadata": {},
   "outputs": [],
   "source": []
  },
  {
   "cell_type": "code",
   "execution_count": null,
   "id": "82f45468",
   "metadata": {},
   "outputs": [],
   "source": []
  },
  {
   "cell_type": "code",
   "execution_count": null,
   "id": "881cfcea",
   "metadata": {},
   "outputs": [],
   "source": []
  },
  {
   "cell_type": "code",
   "execution_count": null,
   "id": "afa48970",
   "metadata": {},
   "outputs": [],
   "source": []
  },
  {
   "cell_type": "code",
   "execution_count": null,
   "id": "43095049",
   "metadata": {},
   "outputs": [],
   "source": []
  },
  {
   "cell_type": "code",
   "execution_count": null,
   "id": "204737dc",
   "metadata": {},
   "outputs": [],
   "source": []
  },
  {
   "cell_type": "code",
   "execution_count": null,
   "id": "d9d4d402",
   "metadata": {},
   "outputs": [],
   "source": []
  },
  {
   "cell_type": "code",
   "execution_count": null,
   "id": "1dd74eb4",
   "metadata": {},
   "outputs": [],
   "source": []
  },
  {
   "cell_type": "code",
   "execution_count": null,
   "id": "5909d36f",
   "metadata": {},
   "outputs": [],
   "source": []
  },
  {
   "cell_type": "code",
   "execution_count": null,
   "id": "969cf9ae",
   "metadata": {},
   "outputs": [],
   "source": []
  },
  {
   "cell_type": "code",
   "execution_count": null,
   "id": "312f6a53",
   "metadata": {},
   "outputs": [],
   "source": []
  },
  {
   "cell_type": "code",
   "execution_count": null,
   "id": "75d2a1b5",
   "metadata": {},
   "outputs": [],
   "source": []
  },
  {
   "cell_type": "code",
   "execution_count": null,
   "id": "cc41e64e",
   "metadata": {},
   "outputs": [],
   "source": []
  },
  {
   "cell_type": "code",
   "execution_count": null,
   "id": "8e648524",
   "metadata": {},
   "outputs": [],
   "source": []
  },
  {
   "cell_type": "code",
   "execution_count": null,
   "id": "062331f1",
   "metadata": {},
   "outputs": [],
   "source": []
  },
  {
   "cell_type": "code",
   "execution_count": null,
   "id": "3c3373fa",
   "metadata": {},
   "outputs": [],
   "source": []
  },
  {
   "cell_type": "code",
   "execution_count": null,
   "id": "7eaf5819",
   "metadata": {},
   "outputs": [],
   "source": []
  },
  {
   "cell_type": "code",
   "execution_count": null,
   "id": "1b1466cd",
   "metadata": {},
   "outputs": [],
   "source": []
  },
  {
   "cell_type": "code",
   "execution_count": null,
   "id": "1344b3e2",
   "metadata": {},
   "outputs": [],
   "source": []
  },
  {
   "cell_type": "code",
   "execution_count": null,
   "id": "2f3b3d61",
   "metadata": {},
   "outputs": [],
   "source": []
  },
  {
   "cell_type": "code",
   "execution_count": null,
   "id": "7c7c4eef",
   "metadata": {},
   "outputs": [],
   "source": []
  },
  {
   "cell_type": "code",
   "execution_count": null,
   "id": "4063f86b",
   "metadata": {},
   "outputs": [],
   "source": []
  },
  {
   "cell_type": "code",
   "execution_count": null,
   "id": "ffabe1d8",
   "metadata": {},
   "outputs": [],
   "source": []
  },
  {
   "cell_type": "code",
   "execution_count": null,
   "id": "76ce142a",
   "metadata": {},
   "outputs": [],
   "source": []
  },
  {
   "cell_type": "code",
   "execution_count": null,
   "id": "d2f91e4e",
   "metadata": {},
   "outputs": [],
   "source": []
  },
  {
   "cell_type": "code",
   "execution_count": null,
   "id": "0f121c79",
   "metadata": {},
   "outputs": [],
   "source": []
  },
  {
   "cell_type": "code",
   "execution_count": null,
   "id": "4b6494f0",
   "metadata": {},
   "outputs": [],
   "source": []
  },
  {
   "cell_type": "code",
   "execution_count": null,
   "id": "27210a69",
   "metadata": {},
   "outputs": [],
   "source": []
  },
  {
   "cell_type": "code",
   "execution_count": null,
   "id": "f1011033",
   "metadata": {},
   "outputs": [],
   "source": []
  },
  {
   "cell_type": "code",
   "execution_count": null,
   "id": "4050c516",
   "metadata": {},
   "outputs": [],
   "source": []
  },
  {
   "cell_type": "code",
   "execution_count": null,
   "id": "e05f89db",
   "metadata": {},
   "outputs": [],
   "source": []
  },
  {
   "cell_type": "code",
   "execution_count": null,
   "id": "f620dd0f",
   "metadata": {},
   "outputs": [],
   "source": []
  },
  {
   "cell_type": "code",
   "execution_count": null,
   "id": "ea6651bb",
   "metadata": {},
   "outputs": [],
   "source": []
  },
  {
   "cell_type": "code",
   "execution_count": null,
   "id": "1f06dbe2",
   "metadata": {},
   "outputs": [],
   "source": []
  },
  {
   "cell_type": "code",
   "execution_count": null,
   "id": "7ec6d118",
   "metadata": {},
   "outputs": [],
   "source": []
  },
  {
   "cell_type": "code",
   "execution_count": null,
   "id": "9a1c05db",
   "metadata": {},
   "outputs": [],
   "source": []
  },
  {
   "cell_type": "code",
   "execution_count": null,
   "id": "bc3274a2",
   "metadata": {},
   "outputs": [],
   "source": []
  },
  {
   "cell_type": "code",
   "execution_count": null,
   "id": "f1a06b37",
   "metadata": {},
   "outputs": [],
   "source": []
  },
  {
   "cell_type": "code",
   "execution_count": null,
   "id": "ed754c27",
   "metadata": {},
   "outputs": [],
   "source": []
  },
  {
   "cell_type": "code",
   "execution_count": null,
   "id": "6192c3bd",
   "metadata": {},
   "outputs": [],
   "source": []
  },
  {
   "cell_type": "code",
   "execution_count": null,
   "id": "da9164ef",
   "metadata": {},
   "outputs": [],
   "source": []
  },
  {
   "cell_type": "code",
   "execution_count": null,
   "id": "f486aa8a",
   "metadata": {},
   "outputs": [],
   "source": []
  },
  {
   "cell_type": "code",
   "execution_count": null,
   "id": "a8ec088b",
   "metadata": {},
   "outputs": [],
   "source": []
  },
  {
   "cell_type": "code",
   "execution_count": null,
   "id": "4ff47fa2",
   "metadata": {},
   "outputs": [],
   "source": []
  },
  {
   "cell_type": "code",
   "execution_count": null,
   "id": "7dd26cef",
   "metadata": {},
   "outputs": [],
   "source": []
  },
  {
   "cell_type": "code",
   "execution_count": null,
   "id": "3a5c29ee",
   "metadata": {},
   "outputs": [],
   "source": []
  },
  {
   "cell_type": "code",
   "execution_count": null,
   "id": "1549a9e9",
   "metadata": {},
   "outputs": [],
   "source": []
  },
  {
   "cell_type": "code",
   "execution_count": null,
   "id": "2e66ca35",
   "metadata": {},
   "outputs": [],
   "source": []
  },
  {
   "cell_type": "code",
   "execution_count": null,
   "id": "a0419c43",
   "metadata": {},
   "outputs": [],
   "source": []
  },
  {
   "cell_type": "code",
   "execution_count": null,
   "id": "6c90a85d",
   "metadata": {},
   "outputs": [],
   "source": []
  },
  {
   "cell_type": "code",
   "execution_count": null,
   "id": "a67fb199",
   "metadata": {},
   "outputs": [],
   "source": []
  },
  {
   "cell_type": "code",
   "execution_count": null,
   "id": "f463db07",
   "metadata": {},
   "outputs": [],
   "source": []
  },
  {
   "cell_type": "code",
   "execution_count": null,
   "id": "c76d00c3",
   "metadata": {},
   "outputs": [],
   "source": []
  },
  {
   "cell_type": "code",
   "execution_count": null,
   "id": "8a51ac55",
   "metadata": {},
   "outputs": [],
   "source": []
  },
  {
   "cell_type": "code",
   "execution_count": null,
   "id": "e68ec869",
   "metadata": {},
   "outputs": [],
   "source": []
  },
  {
   "cell_type": "code",
   "execution_count": null,
   "id": "e932ba7a",
   "metadata": {},
   "outputs": [],
   "source": []
  },
  {
   "cell_type": "code",
   "execution_count": null,
   "id": "22cf7446",
   "metadata": {},
   "outputs": [],
   "source": []
  },
  {
   "cell_type": "code",
   "execution_count": null,
   "id": "ffe1042f",
   "metadata": {},
   "outputs": [],
   "source": []
  },
  {
   "cell_type": "code",
   "execution_count": null,
   "id": "26281463",
   "metadata": {},
   "outputs": [],
   "source": []
  },
  {
   "cell_type": "code",
   "execution_count": null,
   "id": "1f156a74",
   "metadata": {},
   "outputs": [],
   "source": []
  },
  {
   "cell_type": "code",
   "execution_count": null,
   "id": "a2dc5e01",
   "metadata": {},
   "outputs": [],
   "source": []
  },
  {
   "cell_type": "code",
   "execution_count": null,
   "id": "155e2743",
   "metadata": {},
   "outputs": [],
   "source": []
  },
  {
   "cell_type": "code",
   "execution_count": null,
   "id": "6d070c6b",
   "metadata": {},
   "outputs": [],
   "source": []
  },
  {
   "cell_type": "code",
   "execution_count": null,
   "id": "82b5a9ef",
   "metadata": {},
   "outputs": [],
   "source": []
  },
  {
   "cell_type": "code",
   "execution_count": null,
   "id": "a51eeab3",
   "metadata": {},
   "outputs": [],
   "source": []
  },
  {
   "cell_type": "code",
   "execution_count": null,
   "id": "3f3d2a49",
   "metadata": {},
   "outputs": [],
   "source": []
  },
  {
   "cell_type": "code",
   "execution_count": null,
   "id": "758d1c70",
   "metadata": {},
   "outputs": [],
   "source": []
  },
  {
   "cell_type": "code",
   "execution_count": null,
   "id": "cdc20f1d",
   "metadata": {},
   "outputs": [],
   "source": []
  },
  {
   "cell_type": "code",
   "execution_count": null,
   "id": "a8a61b75",
   "metadata": {},
   "outputs": [],
   "source": []
  },
  {
   "cell_type": "code",
   "execution_count": null,
   "id": "b591bba6",
   "metadata": {},
   "outputs": [],
   "source": []
  },
  {
   "cell_type": "code",
   "execution_count": null,
   "id": "7bb21405",
   "metadata": {},
   "outputs": [],
   "source": []
  },
  {
   "cell_type": "code",
   "execution_count": null,
   "id": "0725accb",
   "metadata": {},
   "outputs": [],
   "source": []
  },
  {
   "cell_type": "code",
   "execution_count": null,
   "id": "04b3e41a",
   "metadata": {},
   "outputs": [],
   "source": []
  },
  {
   "cell_type": "code",
   "execution_count": null,
   "id": "1a4fd2b6",
   "metadata": {},
   "outputs": [],
   "source": []
  },
  {
   "cell_type": "code",
   "execution_count": null,
   "id": "e2c67945",
   "metadata": {},
   "outputs": [],
   "source": []
  },
  {
   "cell_type": "code",
   "execution_count": null,
   "id": "7f4ed96e",
   "metadata": {},
   "outputs": [],
   "source": []
  },
  {
   "cell_type": "code",
   "execution_count": null,
   "id": "4d24aa3f",
   "metadata": {},
   "outputs": [],
   "source": []
  },
  {
   "cell_type": "code",
   "execution_count": null,
   "id": "98cce484",
   "metadata": {},
   "outputs": [],
   "source": []
  },
  {
   "cell_type": "code",
   "execution_count": null,
   "id": "d455c3e0",
   "metadata": {},
   "outputs": [],
   "source": []
  },
  {
   "cell_type": "code",
   "execution_count": null,
   "id": "3b389265",
   "metadata": {},
   "outputs": [],
   "source": []
  },
  {
   "cell_type": "code",
   "execution_count": null,
   "id": "e4e9169f",
   "metadata": {},
   "outputs": [],
   "source": []
  },
  {
   "cell_type": "code",
   "execution_count": null,
   "id": "cad61124",
   "metadata": {},
   "outputs": [],
   "source": []
  },
  {
   "cell_type": "code",
   "execution_count": null,
   "id": "35d6909d",
   "metadata": {},
   "outputs": [],
   "source": []
  },
  {
   "cell_type": "code",
   "execution_count": null,
   "id": "114136bb",
   "metadata": {},
   "outputs": [],
   "source": []
  },
  {
   "cell_type": "code",
   "execution_count": null,
   "id": "79d57730",
   "metadata": {},
   "outputs": [],
   "source": []
  },
  {
   "cell_type": "code",
   "execution_count": null,
   "id": "bb1c312b",
   "metadata": {},
   "outputs": [],
   "source": []
  },
  {
   "cell_type": "code",
   "execution_count": null,
   "id": "af9ec328",
   "metadata": {},
   "outputs": [],
   "source": []
  },
  {
   "cell_type": "code",
   "execution_count": null,
   "id": "c5746e82",
   "metadata": {},
   "outputs": [],
   "source": []
  },
  {
   "cell_type": "code",
   "execution_count": null,
   "id": "8f2b9311",
   "metadata": {},
   "outputs": [],
   "source": []
  },
  {
   "cell_type": "code",
   "execution_count": null,
   "id": "ed386a01",
   "metadata": {},
   "outputs": [],
   "source": []
  },
  {
   "cell_type": "code",
   "execution_count": null,
   "id": "05a311a3",
   "metadata": {},
   "outputs": [],
   "source": []
  },
  {
   "cell_type": "code",
   "execution_count": null,
   "id": "513cb172",
   "metadata": {},
   "outputs": [],
   "source": []
  },
  {
   "cell_type": "code",
   "execution_count": null,
   "id": "24f79bc4",
   "metadata": {},
   "outputs": [],
   "source": []
  },
  {
   "cell_type": "code",
   "execution_count": null,
   "id": "28bb293b",
   "metadata": {},
   "outputs": [],
   "source": []
  },
  {
   "cell_type": "code",
   "execution_count": null,
   "id": "a6156d4f",
   "metadata": {},
   "outputs": [],
   "source": []
  },
  {
   "cell_type": "code",
   "execution_count": null,
   "id": "7dda834c",
   "metadata": {},
   "outputs": [],
   "source": []
  },
  {
   "cell_type": "code",
   "execution_count": null,
   "id": "52af7aef",
   "metadata": {},
   "outputs": [],
   "source": []
  },
  {
   "cell_type": "code",
   "execution_count": null,
   "id": "5a6b32b4",
   "metadata": {},
   "outputs": [],
   "source": []
  },
  {
   "cell_type": "code",
   "execution_count": null,
   "id": "e10b74fb",
   "metadata": {},
   "outputs": [],
   "source": []
  },
  {
   "cell_type": "code",
   "execution_count": null,
   "id": "866083ab",
   "metadata": {},
   "outputs": [],
   "source": []
  },
  {
   "cell_type": "code",
   "execution_count": null,
   "id": "01eeffa8",
   "metadata": {},
   "outputs": [],
   "source": []
  },
  {
   "cell_type": "code",
   "execution_count": null,
   "id": "8e010244",
   "metadata": {},
   "outputs": [],
   "source": []
  },
  {
   "cell_type": "code",
   "execution_count": null,
   "id": "c0eb5c7a",
   "metadata": {},
   "outputs": [],
   "source": []
  }
 ],
 "metadata": {
  "kernelspec": {
   "display_name": "Python 3 (ipykernel)",
   "language": "python",
   "name": "python3"
  },
  "language_info": {
   "codemirror_mode": {
    "name": "ipython",
    "version": 3
   },
   "file_extension": ".py",
   "mimetype": "text/x-python",
   "name": "python",
   "nbconvert_exporter": "python",
   "pygments_lexer": "ipython3",
   "version": "3.9.12"
  }
 },
 "nbformat": 4,
 "nbformat_minor": 5
}
